{
 "cells": [
  {
   "cell_type": "markdown",
   "id": "530cf3e5",
   "metadata": {},
   "source": [
    "# 1) Print all elements of a list using for loop."
   ]
  },
  {
   "cell_type": "code",
   "execution_count": 6,
   "id": "1448e550",
   "metadata": {},
   "outputs": [
    {
     "name": "stdout",
     "output_type": "stream",
     "text": [
      "0\n",
      "2\n",
      "4\n",
      "6\n",
      "8\n"
     ]
    }
   ],
   "source": [
    "my_list= list(range(0,10,2))\n",
    "for i in my_list :\n",
    "    print(i)"
   ]
  },
  {
   "cell_type": "markdown",
   "id": "78dc0e6f",
   "metadata": {},
   "source": [
    "# 2) Using range(1,101), make two list, one containing all even numbers and\n",
    "# other containing all odd numbers."
   ]
  },
  {
   "cell_type": "code",
   "execution_count": 11,
   "id": "85e4f081",
   "metadata": {},
   "outputs": [
    {
     "data": {
      "text/plain": [
       "[1,\n",
       " 3,\n",
       " 5,\n",
       " 7,\n",
       " 9,\n",
       " 11,\n",
       " 13,\n",
       " 15,\n",
       " 17,\n",
       " 19,\n",
       " 21,\n",
       " 23,\n",
       " 25,\n",
       " 27,\n",
       " 29,\n",
       " 31,\n",
       " 33,\n",
       " 35,\n",
       " 37,\n",
       " 39,\n",
       " 41,\n",
       " 43,\n",
       " 45,\n",
       " 47,\n",
       " 49,\n",
       " 51,\n",
       " 53,\n",
       " 55,\n",
       " 57,\n",
       " 59,\n",
       " 61,\n",
       " 63,\n",
       " 65,\n",
       " 67,\n",
       " 69,\n",
       " 71,\n",
       " 73,\n",
       " 75,\n",
       " 77,\n",
       " 79,\n",
       " 81,\n",
       " 83,\n",
       " 85,\n",
       " 87,\n",
       " 89,\n",
       " 91,\n",
       " 93,\n",
       " 95,\n",
       " 97,\n",
       " 99]"
      ]
     },
     "execution_count": 11,
     "metadata": {},
     "output_type": "execute_result"
    }
   ],
   "source": [
    "# list containing odd numbers\n",
    "a = list(range(1,101,2))\n",
    "a\n",
    "        "
   ]
  },
  {
   "cell_type": "code",
   "execution_count": 16,
   "id": "1c9c7bca",
   "metadata": {},
   "outputs": [
    {
     "name": "stdout",
     "output_type": "stream",
     "text": [
      "2\n",
      "4\n",
      "6\n",
      "8\n",
      "10\n",
      "12\n",
      "14\n",
      "16\n",
      "18\n",
      "20\n",
      "22\n",
      "24\n",
      "26\n",
      "28\n",
      "30\n",
      "32\n",
      "34\n",
      "36\n",
      "38\n",
      "40\n",
      "42\n",
      "44\n",
      "46\n",
      "48\n",
      "50\n",
      "52\n",
      "54\n",
      "56\n",
      "58\n",
      "60\n",
      "62\n",
      "64\n",
      "66\n",
      "68\n",
      "70\n",
      "72\n",
      "74\n",
      "76\n",
      "78\n",
      "80\n",
      "82\n",
      "84\n",
      "86\n",
      "88\n",
      "90\n",
      "92\n",
      "94\n",
      "96\n",
      "98\n",
      "100\n"
     ]
    }
   ],
   "source": [
    "# list containing even numbers\n",
    "numbers = list(range(1,101,))\n",
    "for i in numbers:\n",
    "    if i%2==0:\n",
    "        print(i)"
   ]
  },
  {
   "cell_type": "markdown",
   "id": "65dfefe5",
   "metadata": {},
   "source": [
    "# 3) A company decided to give bonus of 5% to employee if his/her year of service is more than 5\n",
    "# years. Ask user for their salary and year of service and print the net bonus amount.\n"
   ]
  },
  {
   "cell_type": "code",
   "execution_count": 51,
   "id": "3d65cc68",
   "metadata": {},
   "outputs": [
    {
     "name": "stdout",
     "output_type": "stream",
     "text": [
      "What is your salary?\n",
      "200000\n",
      "How many years have you served the company for?\n",
      "10\n",
      "Your net bonus amount is:10000\n"
     ]
    }
   ],
   "source": [
    "print('What is your salary?')\n",
    "salary = int(input())\n",
    "print ('How many years have you served the company for?')\n",
    "year_of_service = int(input())\n",
    "bonus = 0.05\n",
    "if year_of_service > 5:\n",
    "    print('Your net bonus amount is:'+ str(int(salary * bonus)))\n"
   ]
  },
  {
   "cell_type": "markdown",
   "id": "1b435611",
   "metadata": {},
   "source": [
    "# 4) Take input of age of 3 people by user and determine oldest and youngest among them."
   ]
  },
  {
   "cell_type": "code",
   "execution_count": 102,
   "id": "3550c6ec",
   "metadata": {},
   "outputs": [
    {
     "name": "stdout",
     "output_type": "stream",
     "text": [
      "How old are you?\n",
      "Enter age of user1_age: 87\n",
      "How old are you?\n",
      "Enter age of user2_age: 78\n",
      "How old are you?\n",
      "Enter age of user3_age: 57\n",
      "user1_age is oldest\n",
      "user3_age is youngest\n"
     ]
    }
   ],
   "source": [
    "print('How old are you?')\n",
    "user1_age = int(input('Enter age of user1_age: '))\n",
    "print('How old are you?')\n",
    "user2_age = int(input('Enter age of user2_age: '))\n",
    "print('How old are you?')\n",
    "user3_age = int(input('Enter age of user3_age: '))\n",
    "if user1_age > user2_age and user1_age > user3_age :\n",
    "    print(\"user1_age is oldest\")\n",
    "elif user2_age > user1_age and user2_age > user3_age :\n",
    "    print(\"user2_age is oldest\")\n",
    "elif user3_age > user1_age and user3_age > user2_age :\n",
    "    print(\"user3_age is oldest\")\n",
    "    \n",
    "if user1_age < user2_age and user1_age < user3_age :\n",
    "    print(\"user1_age is youngest\")\n",
    "elif user2_age < user1_age and user2_age < user3_age:\n",
    "    print(\"user2_age is youngest\")\n",
    "elif user3_age < user1_age and user3_age < user2_age :\n",
    "    print(\"user3_age is youngest\")\n"
   ]
  },
  {
   "cell_type": "markdown",
   "id": "92aed761",
   "metadata": {},
   "source": [
    "# 5)  A school has following rules for grading system:\n",
    "a. Below 25 -F\n",
    "b. 25 to 45 -E\n",
    "c. 45 to 50 -D\n",
    "d. 50 to 60 -C\n",
    "e. 60 to 80 -B\n",
    "f. Above 80 -A"
   ]
  },
  {
   "cell_type": "code",
   "execution_count": null,
   "id": "9fc894b9",
   "metadata": {},
   "outputs": [],
   "source": [
    "# Ask user to enter marks and print the corresponding grade."
   ]
  },
  {
   "cell_type": "code",
   "execution_count": 129,
   "id": "fc6171e5",
   "metadata": {},
   "outputs": [
    {
     "name": "stdout",
     "output_type": "stream",
     "text": [
      "What did score in Mathemathics?\n",
      "Mathematics score: 43\n",
      "E\n"
     ]
    }
   ],
   "source": [
    "print('What did score in Mathemathics?')\n",
    "maths_grade = int(input('Mathematics score: '))\n",
    "if maths_grade >= 80:\n",
    "    print('A')\n",
    "elif maths_grade >= 60 and a <= 80:\n",
    "     print('B')\n",
    "elif maths_grade >= 50 and a <= 60:\n",
    "     print('C')\n",
    "elif maths_grade>= 45 and a <= 50:\n",
    "    print('D')\n",
    "elif maths_grade >= 25 and a <= 45 :\n",
    "    print('E')\n",
    "elif maths_grade <= 25:\n",
    "    print('F')"
   ]
  },
  {
   "cell_type": "markdown",
   "id": "e6be7880",
   "metadata": {},
   "source": [
    "# I want to ask questions on In [111] and [124]"
   ]
  },
  {
   "cell_type": "code",
   "execution_count": 111,
   "id": "63490a1a",
   "metadata": {},
   "outputs": [
    {
     "name": "stdout",
     "output_type": "stream",
     "text": [
      "What did score in Mathemathics?\n",
      "Mathematics score: 12\n",
      "What did score in English?\n",
      "English score: 45\n",
      "What did score in dataprocessing?\n",
      " dataprocessing: 35\n"
     ]
    }
   ],
   "source": [
    "print('What did score in Mathemathics?')\n",
    "maths_grade = int(input('Mathematics score: '))\n",
    "print('What did score in English?')\n",
    "eng_grade = int(input('English score: '))\n",
    "print('What did score in dataprocessing?')\n",
    "data_grade = int(input(' dataprocessing: '))\n",
    "\n",
    "#def determine grade(maths_grade,eng_grade,data_grade ):\n",
    "if a >= 25:\n",
    "    print('F')\n",
    "elif a >= 25 and a <= 45 :\n",
    "    print('E')\n",
    "elif a >= 45 and a <= 50:\n",
    "    print('D')\n",
    "elif a >= 50 and a <= 60:\n",
    "     print('C')\n",
    "elif a >= 60 and a <= 80:\n",
    "     print('B')\n",
    "elif a >= 80:\n",
    "    print('A')\n",
    "\n",
    "    "
   ]
  },
  {
   "cell_type": "code",
   "execution_count": 124,
   "id": "6fbae971",
   "metadata": {},
   "outputs": [
    {
     "name": "stdout",
     "output_type": "stream",
     "text": [
      "What did score in Mathemathics?\n",
      "Mathematics score: 23\n",
      "What did score in English?\n",
      "English score: 56\n",
      "What did score in dataprocessing?\n",
      " dataprocessing: 35\n"
     ]
    }
   ],
   "source": [
    "print('What did score in Mathemathics?')\n",
    "maths_grade = int(input('Mathematics score: '))\n",
    "print('What did score in English?')\n",
    "eng_grade = int(input('English score: '))\n",
    "print('What did score in dataprocessing?')\n",
    "data_grade = int(input(' dataprocessing: '))\n",
    "\n",
    "def determine_grade(maths_grade):\n",
    "    if maths_grade >= 25:\n",
    "        return 'F'\n",
    "#elif a >= 25 and a <= 45 :\n",
    "    #print('E')\n",
    "#elif a >= 45 and a <= 50:\n",
    "    #print('D')\n",
    "#elif a >= 50 and a <= 60:\n",
    "     #print('C')\n",
    "#elif a >= 60 and a <= 80:\n",
    "     #print('B')\n",
    "#elif a >= 80:\n",
    "    #print('A')\n",
    "\n",
    "    "
   ]
  },
  {
   "cell_type": "markdown",
   "id": "79d82149",
   "metadata": {},
   "source": [
    "# 6) Write a Python script to merge two Python dictionaries"
   ]
  },
  {
   "cell_type": "code",
   "execution_count": 67,
   "id": "64067167",
   "metadata": {},
   "outputs": [],
   "source": [
    "dict1 = {'room_one': 15, 'room_two': 14 , 'room_three': 12, 'room_four': 11, 'room_five': 16, 'room_six': 17}\n",
    "dict2 = {'fruit': 'Apple', 'colour': 'purple', 'tutor':'David'}"
   ]
  },
  {
   "cell_type": "code",
   "execution_count": 76,
   "id": "912064a2",
   "metadata": {},
   "outputs": [
    {
     "name": "stdout",
     "output_type": "stream",
     "text": [
      "{'room_one': 15, 'room_two': 14, 'room_three': 12, 'room_four': 11, 'room_five': 16, 'room_six': 17, 'fruit': 'Apple', 'colour': 'purple', 'tutor': 'David'}\n"
     ]
    }
   ],
   "source": [
    "new = dict1.copy()\n",
    "new.update(dict2)\n",
    "print(new)\n"
   ]
  },
  {
   "cell_type": "markdown",
   "id": "c5bc642c",
   "metadata": {},
   "source": [
    "# 7 ) Write a Python program to remove a key from a dictionary."
   ]
  },
  {
   "cell_type": "code",
   "execution_count": 80,
   "id": "556d0d8b",
   "metadata": {},
   "outputs": [
    {
     "name": "stdout",
     "output_type": "stream",
     "text": [
      "{'Apple': 'green', 'pawpaw': 'yellow', 'grape': 'wine', 'watermelon': 'red', 'tomatoes': 'orange', 'pineapple': 'dark green'}\n",
      "{'Apple': 'green', 'pawpaw': 'yellow', 'grape': 'wine', 'watermelon': 'red', 'pineapple': 'dark green'}\n"
     ]
    }
   ],
   "source": [
    "fruit_colour = {'Apple':'green', 'pawpaw' : 'yellow' , 'grape' : 'wine' , 'watermelon' : 'red', 'tomatoes' :  'orange' ,'pineapple' : 'dark green'}\n",
    "print(fruit_colour)\n",
    "if  'tomatoes' in fruit_colour:\n",
    "    del fruit_colour['tomatoes']\n",
    "    print(fruit_colour)"
   ]
  },
  {
   "cell_type": "code",
   "execution_count": 81,
   "id": "d94bb2d5",
   "metadata": {},
   "outputs": [
    {
     "name": "stdout",
     "output_type": "stream",
     "text": [
      "{'Apple': 'green', 'pawpaw': 'yellow', 'grape': 'wine', 'watermelon': 'red', 'pineapple': 'dark green'}\n"
     ]
    }
   ],
   "source": [
    "# Another method of deleting a key from a dictionary\n",
    "fruit_colour = {'Apple':'green', 'pawpaw' : 'yellow' , 'grape' : 'wine' , 'watermelon' : 'red', 'tomatoes' :  'orange' ,'pineapple' : 'dark green'}\n",
    "del fruit_colour['tomatoes']\n",
    "print(fruit_colour)"
   ]
  },
  {
   "cell_type": "markdown",
   "id": "4c107da0",
   "metadata": {},
   "source": [
    "# 8) Write a Python program to get the largest number from a list"
   ]
  },
  {
   "cell_type": "code",
   "execution_count": 90,
   "id": "ba68fa7d",
   "metadata": {},
   "outputs": [
    {
     "name": "stdout",
     "output_type": "stream",
     "text": [
      "[5, 10, 15, 20, 25, 30, 35, 40, 45]\n",
      "45\n"
     ]
    }
   ],
   "source": [
    "my_num =list(range(5,50,5))\n",
    "print(my_num)\n",
    "max_num = max(my_num)\n",
    "print(max_num)"
   ]
  },
  {
   "cell_type": "markdown",
   "id": "b38b704e",
   "metadata": {},
   "source": [
    "# The end"
   ]
  }
 ],
 "metadata": {
  "kernelspec": {
   "display_name": "Python 3 (ipykernel)",
   "language": "python",
   "name": "python3"
  },
  "language_info": {
   "codemirror_mode": {
    "name": "ipython",
    "version": 3
   },
   "file_extension": ".py",
   "mimetype": "text/x-python",
   "name": "python",
   "nbconvert_exporter": "python",
   "pygments_lexer": "ipython3",
   "version": "3.9.12"
  }
 },
 "nbformat": 4,
 "nbformat_minor": 5
}
